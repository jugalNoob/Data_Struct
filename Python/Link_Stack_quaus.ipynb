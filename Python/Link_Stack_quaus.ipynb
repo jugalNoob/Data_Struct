{
 "cells": [
  {
   "cell_type": "code",
   "execution_count": 1,
   "id": "c3eed7b2",
   "metadata": {},
   "outputs": [],
   "source": [
    "#LinkList https://www.tutorialspoint.com/python_data_structure/python_searching_algorithms.htm"
   ]
  },
  {
   "cell_type": "code",
   "execution_count": 12,
   "id": "21c3fe70",
   "metadata": {},
   "outputs": [
    {
     "name": "stdout",
     "output_type": "stream",
     "text": [
      "10\n",
      "20\n",
      "30\n"
     ]
    }
   ],
   "source": [
    "class Node:\n",
    "   def __init__(self, dataval=None):\n",
    "      self.dataval = dataval\n",
    "      self.nextval = None\n",
    "\n",
    "class SLinkedList:\n",
    "   def __init__(self):\n",
    "      self.headval = None\n",
    "\n",
    "   def listprint(self):\n",
    "      printval = self.headval\n",
    "      while printval is not None:\n",
    "         print (printval.dataval)\n",
    "         printval = printval.nextval\n",
    "\n",
    "list = SLinkedList()\n",
    "list.headval = Node(10)\n",
    "e2 = Node(20)\n",
    "e3 = Node(30)\n",
    "\n",
    "# Link first Node to second node\n",
    "list.headval.nextval = e2\n",
    "\n",
    "# Link second Node to third node\n",
    "e2.nextval = e3\n",
    "list.listprint()\n"
   ]
  },
  {
   "cell_type": "code",
   "execution_count": 13,
   "id": "99fe3fa5",
   "metadata": {},
   "outputs": [],
   "source": [
    "#stack "
   ]
  },
  {
   "cell_type": "code",
   "execution_count": 14,
   "id": "b61ca45b",
   "metadata": {},
   "outputs": [
    {
     "name": "stdout",
     "output_type": "stream",
     "text": [
      "Tue\n",
      "Thu\n"
     ]
    }
   ],
   "source": [
    "class Stack:\n",
    "   def __init__(self):\n",
    "      self.stack = []\n",
    "\n",
    "   def add(self, dataval):\n",
    "# Use list append method to add element\n",
    "      if dataval not in self.stack:\n",
    "         self.stack.append(dataval)\n",
    "         return True\n",
    "      else:\n",
    "         return False\n",
    "# Use peek to look at the top of the stack\n",
    "   def peek(self):     \n",
    "\t   return self.stack[-1]\n",
    "\n",
    "AStack = Stack()\n",
    "AStack.add(\"Mon\")\n",
    "AStack.add(\"Tue\")\n",
    "AStack.peek()\n",
    "print(AStack.peek())\n",
    "AStack.add(\"Wed\")\n",
    "AStack.add(\"Thu\")\n",
    "print(AStack.peek())"
   ]
  },
  {
   "cell_type": "code",
   "execution_count": 15,
   "id": "e2c6cc9a",
   "metadata": {},
   "outputs": [],
   "source": [
    "#queAS"
   ]
  },
  {
   "cell_type": "code",
   "execution_count": 16,
   "id": "69ca20b6",
   "metadata": {},
   "outputs": [
    {
     "ename": "IndentationError",
     "evalue": "expected an indented block after function definition on line 5 (2834948788.py, line 7)",
     "output_type": "error",
     "traceback": [
      "\u001b[1;36m  Input \u001b[1;32mIn [16]\u001b[1;36m\u001b[0m\n\u001b[1;33m    if dataval not in self.queue:\u001b[0m\n\u001b[1;37m    ^\u001b[0m\n\u001b[1;31mIndentationError\u001b[0m\u001b[1;31m:\u001b[0m expected an indented block after function definition on line 5\n"
     ]
    }
   ],
   "source": [
    "class Queue:\n",
    "   def __init__(self):\n",
    "      self.queue = list()\n",
    "\n",
    "   def addtoq(self,dataval):\n",
    "# Insert method to add element\n",
    "   if dataval not in self.queue:\n",
    "      self.queue.insert(0,dataval)\n",
    "      return True\n",
    "   return False\n",
    "\n",
    "   def size(self):\n",
    "      return len(self.queue)\n",
    "\n",
    "TheQueue = Queue()\n",
    "TheQueue.addtoq(\"Mon\")\n",
    "TheQueue.addtoq(\"Tue\")\n",
    "TheQueue.addtoq(\"Wed\")\n",
    "print(TheQueue.size())"
   ]
  },
  {
   "cell_type": "code",
   "execution_count": 17,
   "id": "87e21dea",
   "metadata": {},
   "outputs": [
    {
     "name": "stdout",
     "output_type": "stream",
     "text": [
      "['a', 'b', 'c']\n",
      "['aa', 'ab', 'ac', 'ba', 'bb', 'bc', 'ca', 'cb', 'cc']\n"
     ]
    }
   ],
   "source": [
    "def permute(list, s):\n",
    "   if list == 1:\n",
    "      return s\n",
    "   else:\n",
    "      return [ \n",
    "         y + x\n",
    "         for y in permute(1, s)\n",
    "         for x in permute(list - 1, s)\n",
    "      ]\n",
    "print(permute(1, [\"a\",\"b\",\"c\"]))\n",
    "print(permute(2, [\"a\",\"b\",\"c\"]))"
   ]
  },
  {
   "cell_type": "code",
   "execution_count": null,
   "id": "73893510",
   "metadata": {},
   "outputs": [],
   "source": []
  }
 ],
 "metadata": {
  "kernelspec": {
   "display_name": "Python 3 (ipykernel)",
   "language": "python",
   "name": "python3"
  },
  "language_info": {
   "codemirror_mode": {
    "name": "ipython",
    "version": 3
   },
   "file_extension": ".py",
   "mimetype": "text/x-python",
   "name": "python",
   "nbconvert_exporter": "python",
   "pygments_lexer": "ipython3",
   "version": "3.10.6"
  }
 },
 "nbformat": 4,
 "nbformat_minor": 5
}
