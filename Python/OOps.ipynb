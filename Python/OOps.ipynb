{
 "cells": [
  {
   "cell_type": "code",
   "execution_count": 1,
   "id": "f5b335be",
   "metadata": {},
   "outputs": [],
   "source": [
    "#oops class start"
   ]
  },
  {
   "cell_type": "code",
   "execution_count": 7,
   "id": "50f3e8ed",
   "metadata": {},
   "outputs": [],
   "source": [
    "class One:\n",
    "    \n",
    "    def __init__(self , name , gender , classs):\n",
    "        \n",
    "        self.name = name;\n",
    "        \n",
    "        self.gender = gender;\n",
    "        \n",
    "        self.classs = classs;\n",
    "        \n",
    "        \n",
    "#     def employees(self):\n",
    "        \n",
    "#         print(\"thisis my name \" , self.name)\n",
    "        \n",
    "#         print(self.gender)\n",
    "        \n",
    "#         print(self.classs)\n",
    "        \n",
    " \n",
    "\n"
   ]
  },
  {
   "cell_type": "code",
   "execution_count": 8,
   "id": "b53f22e0",
   "metadata": {},
   "outputs": [],
   "source": [
    "e1=One(\"jugal sharma\" , 22 , \"10th\")"
   ]
  },
  {
   "cell_type": "code",
   "execution_count": 14,
   "id": "275c570b",
   "metadata": {},
   "outputs": [
    {
     "data": {
      "text/plain": [
       "22"
      ]
     },
     "execution_count": 14,
     "metadata": {},
     "output_type": "execute_result"
    }
   ],
   "source": [
    "e1.gender  # e1.employees() second method"
   ]
  },
  {
   "cell_type": "code",
   "execution_count": 16,
   "id": "55b50c7a",
   "metadata": {},
   "outputs": [],
   "source": [
    "#inheriting"
   ]
  },
  {
   "cell_type": "code",
   "execution_count": 21,
   "id": "a8c62d1b",
   "metadata": {},
   "outputs": [],
   "source": [
    "class Vehicl:\n",
    "    \n",
    "    def __init__(self , milage , cost):\n",
    "        \n",
    "        self.milage = milage;\n",
    "        \n",
    "        self.cost = cost;\n",
    "        \n",
    "    def  info(self):\n",
    "        \n",
    "        print(\"this is milage my car\",self.milage)\n",
    "        \n",
    "        print(\"this is cost my car\" , self.cost)\n",
    "        \n",
    "        \n",
    "        "
   ]
  },
  {
   "cell_type": "code",
   "execution_count": 22,
   "id": "9199c7ec",
   "metadata": {},
   "outputs": [],
   "source": [
    "car=Vehicl(500 , 500)"
   ]
  },
  {
   "cell_type": "code",
   "execution_count": 25,
   "id": "24614235",
   "metadata": {},
   "outputs": [
    {
     "name": "stdout",
     "output_type": "stream",
     "text": [
      "this is milage my car 500\n",
      "this is cost my car 500\n"
     ]
    }
   ],
   "source": [
    "car.info()"
   ]
  },
  {
   "cell_type": "code",
   "execution_count": 43,
   "id": "eb0a8753",
   "metadata": {},
   "outputs": [],
   "source": [
    "class Car(Vehicl):\n",
    "    \n",
    "    def __init__(self , milage , cost , name , gender): # cost milage parents\n",
    "        \n",
    "        super.__init__( milage , cost )## individual\n",
    "        \n",
    "        self.name = name\n",
    "        \n",
    "        sel.gender=gender\n",
    "    \n",
    "    def Info(self):\n",
    "        \n",
    "        \n",
    "        print(\"i am a car\")"
   ]
  },
  {
   "cell_type": "code",
   "execution_count": 44,
   "id": "9a488916",
   "metadata": {},
   "outputs": [
    {
     "ename": "TypeError",
     "evalue": "descriptor '__init__' requires a 'super' object but received a 'int'",
     "output_type": "error",
     "traceback": [
      "\u001b[1;31m---------------------------------------------------------------------------\u001b[0m",
      "\u001b[1;31mTypeError\u001b[0m                                 Traceback (most recent call last)",
      "Input \u001b[1;32mIn [44]\u001b[0m, in \u001b[0;36m<cell line: 1>\u001b[1;34m()\u001b[0m\n\u001b[1;32m----> 1\u001b[0m c1\u001b[38;5;241m=\u001b[39m\u001b[43mCar\u001b[49m\u001b[43m(\u001b[49m\u001b[38;5;241;43m2500\u001b[39;49m\u001b[43m \u001b[49m\u001b[43m,\u001b[49m\u001b[43m \u001b[49m\u001b[38;5;241;43m2500\u001b[39;49m\u001b[43m \u001b[49m\u001b[43m,\u001b[49m\u001b[43m \u001b[49m\u001b[38;5;124;43m\"\u001b[39;49m\u001b[38;5;124;43mjugal\u001b[39;49m\u001b[38;5;124;43m\"\u001b[39;49m\u001b[43m \u001b[49m\u001b[43m,\u001b[49m\u001b[43m \u001b[49m\u001b[38;5;124;43m\"\u001b[39;49m\u001b[38;5;124;43mmale\u001b[39;49m\u001b[38;5;124;43m\"\u001b[39;49m\u001b[43m)\u001b[49m\n",
      "Input \u001b[1;32mIn [43]\u001b[0m, in \u001b[0;36mCar.__init__\u001b[1;34m(self, milage, cost, name, gender)\u001b[0m\n\u001b[0;32m      3\u001b[0m \u001b[38;5;28;01mdef\u001b[39;00m \u001b[38;5;21m__init__\u001b[39m(\u001b[38;5;28mself\u001b[39m , milage , cost , name , gender): \u001b[38;5;66;03m# cost milage parents\u001b[39;00m\n\u001b[1;32m----> 5\u001b[0m     \u001b[38;5;28;43msuper\u001b[39;49m\u001b[38;5;241;43m.\u001b[39;49m\u001b[38;5;21;43m__init__\u001b[39;49m\u001b[43m(\u001b[49m\u001b[43m \u001b[49m\u001b[43mmilage\u001b[49m\u001b[43m \u001b[49m\u001b[43m,\u001b[49m\u001b[43m \u001b[49m\u001b[43mcost\u001b[49m\u001b[43m \u001b[49m\u001b[43m)\u001b[49m\u001b[38;5;66;03m## individual\u001b[39;00m\n\u001b[0;32m      7\u001b[0m     \u001b[38;5;28mself\u001b[39m\u001b[38;5;241m.\u001b[39mname \u001b[38;5;241m=\u001b[39m name\n\u001b[0;32m      9\u001b[0m     sel\u001b[38;5;241m.\u001b[39mgender\u001b[38;5;241m=\u001b[39mgender\n",
      "\u001b[1;31mTypeError\u001b[0m: descriptor '__init__' requires a 'super' object but received a 'int'"
     ]
    }
   ],
   "source": [
    "c1=Car(2500 , 2500 , \"jugal\" , \"male\");\n"
   ]
  },
  {
   "cell_type": "code",
   "execution_count": 45,
   "id": "75078fcd",
   "metadata": {},
   "outputs": [
    {
     "name": "stdout",
     "output_type": "stream",
     "text": [
      "i am a car\n"
     ]
    }
   ],
   "source": [
    "c1.Info()"
   ]
  },
  {
   "cell_type": "code",
   "execution_count": 39,
   "id": "65bfada5",
   "metadata": {},
   "outputs": [
    {
     "name": "stdout",
     "output_type": "stream",
     "text": [
      "this is milage my car 2500\n",
      "this is cost my car 2500\n"
     ]
    }
   ],
   "source": [
    "c1.info()"
   ]
  },
  {
   "cell_type": "code",
   "execution_count": 46,
   "id": "55b61765",
   "metadata": {},
   "outputs": [],
   "source": [
    "\n",
    "#override"
   ]
  },
  {
   "cell_type": "code",
   "execution_count": 75,
   "id": "f314dd4c",
   "metadata": {},
   "outputs": [],
   "source": [
    "class Var(Vehicl):\n",
    "    \n",
    "    def __init__(self , milage , cost , hp , tyres): # cost milage parents\n",
    "        \n",
    "        super().__init__( milage , cost )## individual\n",
    "        \n",
    "        self.hp = hp\n",
    "        \n",
    "        self.tyres=tyres\n",
    "    \n",
    "    def Vnfo(self):\n",
    "        \n",
    "        \n",
    "        print(\"this is my hp\" , self.hp)\n",
    "        \n",
    "        print(\"this is my tyres\" , self.tyres)"
   ]
  },
  {
   "cell_type": "code",
   "execution_count": 76,
   "id": "b89139c6",
   "metadata": {},
   "outputs": [],
   "source": [
    "c2=Var(600 , 8000 , 1000, 900)"
   ]
  },
  {
   "cell_type": "code",
   "execution_count": 77,
   "id": "09dab3ca",
   "metadata": {},
   "outputs": [
    {
     "name": "stdout",
     "output_type": "stream",
     "text": [
      "this is my hp 1000\n",
      "this is my tyres 900\n"
     ]
    }
   ],
   "source": [
    "c2.Vnfo()"
   ]
  },
  {
   "cell_type": "code",
   "execution_count": null,
   "id": "229cc055",
   "metadata": {},
   "outputs": [],
   "source": []
  }
 ],
 "metadata": {
  "kernelspec": {
   "display_name": "Python 3 (ipykernel)",
   "language": "python",
   "name": "python3"
  },
  "language_info": {
   "codemirror_mode": {
    "name": "ipython",
    "version": 3
   },
   "file_extension": ".py",
   "mimetype": "text/x-python",
   "name": "python",
   "nbconvert_exporter": "python",
   "pygments_lexer": "ipython3",
   "version": "3.10.6"
  }
 },
 "nbformat": 4,
 "nbformat_minor": 5
}
