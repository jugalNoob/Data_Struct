{
 "cells": [
  {
   "cell_type": "code",
   "execution_count": 1,
   "id": "3b6bd12c",
   "metadata": {},
   "outputs": [],
   "source": [
    "\n",
    "-#bubble sort"
   ]
  },
  {
   "cell_type": "code",
   "execution_count": 20,
   "id": "63c66a38",
   "metadata": {},
   "outputs": [
    {
     "name": "stdout",
     "output_type": "stream",
     "text": [
      "[8, 50, 1, 3, 4, 0]\n",
      "[8, 1, 50, 3, 4, 0]\n",
      "[8, 1, 3, 50, 4, 0]\n",
      "[8, 1, 3, 4, 50, 0]\n",
      "[8, 1, 3, 4, 0, 50]\n",
      "[1, 8, 3, 4, 0, 50]\n",
      "[1, 3, 8, 4, 0, 50]\n",
      "[1, 3, 4, 8, 0, 50]\n",
      "[1, 3, 4, 0, 8, 50]\n",
      "[1, 3, 0, 4, 8, 50]\n",
      "[1, 0, 3, 4, 8, 50]\n",
      "[0, 1, 3, 4, 8, 50]\n"
     ]
    }
   ],
   "source": [
    "\n",
    "data=[50 , 8 , 1 , 3 , 4 , 0]\n",
    "\n",
    "for i in range(len(data)): \n",
    "    \n",
    "#     print(data)\n",
    " for j in range(len(data)-1):\n",
    "    \n",
    "    if data[j] > data[j+1]:\n",
    "        \n",
    "        temp=data[j]\n",
    "        \n",
    "        data[j]=data[j+1]\n",
    "        \n",
    "        data[j+1]=temp\n",
    "        \n",
    "        print(data)\n",
    "        "
   ]
  },
  {
   "cell_type": "code",
   "execution_count": null,
   "id": "63f46535",
   "metadata": {},
   "outputs": [],
   "source": []
  },
  {
   "cell_type": "code",
   "execution_count": null,
   "id": "81abc081",
   "metadata": {},
   "outputs": [],
   "source": []
  }
 ],
 "metadata": {
  "kernelspec": {
   "display_name": "Python 3 (ipykernel)",
   "language": "python",
   "name": "python3"
  },
  "language_info": {
   "codemirror_mode": {
    "name": "ipython",
    "version": 3
   },
   "file_extension": ".py",
   "mimetype": "text/x-python",
   "name": "python",
   "nbconvert_exporter": "python",
   "pygments_lexer": "ipython3",
   "version": "3.10.6"
  }
 },
 "nbformat": 4,
 "nbformat_minor": 5
}
