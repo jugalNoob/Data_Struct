{
 "cells": [
  {
   "cell_type": "markdown",
   "id": "30d822e0",
   "metadata": {},
   "source": [
    "# string in python"
   ]
  },
  {
   "cell_type": "code",
   "execution_count": 13,
   "id": "cc9b1bf2",
   "metadata": {},
   "outputs": [
    {
     "name": "stdout",
     "output_type": "stream",
     "text": [
      "jugal sharma\n",
      "jugal sharma\n",
      "jugal sharma\n",
      "jugal sharma\n",
      "JUGAL SHARMA\n",
      "['jugal sharma']\n",
      "jugal s\n"
     ]
    }
   ],
   "source": [
    "str=\"jugal sharma\"\n",
    "\n",
    "print(str)\n",
    "print(str.strip())\n",
    "print(str.lower())\n",
    "print(str.replace(\"J\", \"S\"))\n",
    "print(str.upper())\n",
    "print(str.split(\",\"))\n",
    "print(str[0:-5])"
   ]
  },
  {
   "cell_type": "code",
   "execution_count": 14,
   "id": "83e69843",
   "metadata": {},
   "outputs": [
    {
     "name": "stdout",
     "output_type": "stream",
     "text": [
      "Hello World\n"
     ]
    }
   ],
   "source": [
    "\n",
    "a = \"Hello\"\n",
    "b = \"World\"\n",
    "c = a + \" \" + b\n",
    "print(c)"
   ]
  },
  {
   "cell_type": "code",
   "execution_count": 15,
   "id": "d55704a3",
   "metadata": {},
   "outputs": [
    {
     "name": "stdout",
     "output_type": "stream",
     "text": [
      "My name is John, and I am 36\n"
     ]
    }
   ],
   "source": [
    "age = 36\n",
    "txt = \"My name is John, and I am {}\"\n",
    "print(txt.format(age))\n"
   ]
  },
  {
   "cell_type": "code",
   "execution_count": 16,
   "id": "147a7656",
   "metadata": {},
   "outputs": [
    {
     "name": "stdout",
     "output_type": "stream",
     "text": [
      "7\n"
     ]
    }
   ],
   "source": [
    "txt = \"Hello, welcome to my world.\"\n",
    "\n",
    "x = txt.find(\"welcome\")\n",
    "\n",
    "print(x)"
   ]
  },
  {
   "cell_type": "code",
   "execution_count": null,
   "id": "2f355939",
   "metadata": {},
   "outputs": [],
   "source": []
  }
 ],
 "metadata": {
  "kernelspec": {
   "display_name": "Python 3 (ipykernel)",
   "language": "python",
   "name": "python3"
  },
  "language_info": {
   "codemirror_mode": {
    "name": "ipython",
    "version": 3
   },
   "file_extension": ".py",
   "mimetype": "text/x-python",
   "name": "python",
   "nbconvert_exporter": "python",
   "pygments_lexer": "ipython3",
   "version": "3.10.6"
  }
 },
 "nbformat": 4,
 "nbformat_minor": 5
}
