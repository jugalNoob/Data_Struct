{
 "cells": [
  {
   "cell_type": "code",
   "execution_count": 1,
   "id": "404389db",
   "metadata": {},
   "outputs": [],
   "source": [
    "#python_array"
   ]
  },
  {
   "cell_type": "code",
   "execution_count": 12,
   "id": "9b0e0fcd",
   "metadata": {},
   "outputs": [
    {
     "name": "stdout",
     "output_type": "stream",
     "text": [
      "jugal\n",
      "sharma\n",
      "karan\n",
      "kanika\n",
      "bitch\n",
      "chinea\n",
      "norway\n",
      "tiwan\n",
      "swden\n",
      "['JUGAL SHARMA', 'american', 'bitch', 'kanika']\n",
      "chinea\n"
     ]
    }
   ],
   "source": [
    "\n",
    "data=[\"jugal\" , \"sharma\" , \"karan\" , \"kanika\" , \"bitch\"]\n",
    "\n",
    "data1=[\"chinea\" , \"norway\" , \"tiwan\" , \"swden\"]\n",
    "\n",
    "\n",
    "list=data + data1\n",
    "\n",
    "data[0]=\"JUGAL SHARMA\"\n",
    "\n",
    "data.pop(1)\n",
    "\n",
    "data.append(\"american\")\n",
    "\n",
    "data.sort()\n",
    "\n",
    "data.remove(\"karan\")\n",
    "\n",
    "\n",
    "for x in list:\n",
    "  print(x)\n",
    "\n",
    "\n",
    "print(data)\n",
    "\n",
    "print(list[5])"
   ]
  },
  {
   "cell_type": "code",
   "execution_count": 13,
   "id": "4ef385b0",
   "metadata": {},
   "outputs": [],
   "source": [
    "\n",
    "#tubble"
   ]
  },
  {
   "cell_type": "code",
   "execution_count": 17,
   "id": "8849f820",
   "metadata": {},
   "outputs": [
    {
     "name": "stdout",
     "output_type": "stream",
     "text": [
      "('jugal', 1, 'katana', 0, True)\n"
     ]
    }
   ],
   "source": [
    "\n",
    "tu=(\"jugal\" , 1 , \"katana\" , 0 , True)\n",
    "\n",
    "print(tu)"
   ]
  },
  {
   "cell_type": "code",
   "execution_count": 18,
   "id": "bde46789",
   "metadata": {},
   "outputs": [],
   "source": [
    "#set"
   ]
  },
  {
   "cell_type": "code",
   "execution_count": 19,
   "id": "b04ff157",
   "metadata": {},
   "outputs": [
    {
     "name": "stdout",
     "output_type": "stream",
     "text": [
      "apple\n",
      "banana\n",
      "cherry\n"
     ]
    }
   ],
   "source": [
    "thisset = {\"apple\", \"banana\", \"cherry\"}\n",
    "\n",
    "for x in thisset:\n",
    "  print(x)"
   ]
  },
  {
   "cell_type": "code",
   "execution_count": 24,
   "id": "051c5ee0",
   "metadata": {},
   "outputs": [
    {
     "ename": "SyntaxError",
     "evalue": "invalid syntax (2928216938.py, line 1)",
     "output_type": "error",
     "traceback": [
      "\u001b[1;36m  Input \u001b[1;32mIn [24]\u001b[1;36m\u001b[0m\n\u001b[1;33m    let one=\"jugal\"\u001b[0m\n\u001b[1;37m        ^\u001b[0m\n\u001b[1;31mSyntaxError\u001b[0m\u001b[1;31m:\u001b[0m invalid syntax\n"
     ]
    }
   ],
   "source": [
    "let one=\"jugal\""
   ]
  },
  {
   "cell_type": "code",
   "execution_count": null,
   "id": "1e2b7686",
   "metadata": {},
   "outputs": [],
   "source": [
    "console.log(one)"
   ]
  },
  {
   "cell_type": "code",
   "execution_count": 25,
   "id": "43a6c736",
   "metadata": {},
   "outputs": [
    {
     "name": "stdout",
     "output_type": "stream",
     "text": [
      "5\n",
      "25\n"
     ]
    }
   ],
   "source": [
    "x = min(5, 10, 25)\n",
    "y = max(5, 10, 25)\n",
    "\n",
    "print(x)\n",
    "print(y)"
   ]
  },
  {
   "cell_type": "code",
   "execution_count": null,
   "id": "6d63a8c5",
   "metadata": {},
   "outputs": [],
   "source": []
  }
 ],
 "metadata": {
  "kernelspec": {
   "display_name": "Python 3 (ipykernel)",
   "language": "python",
   "name": "python3"
  },
  "language_info": {
   "codemirror_mode": {
    "name": "ipython",
    "version": 3
   },
   "file_extension": ".py",
   "mimetype": "text/x-python",
   "name": "python",
   "nbconvert_exporter": "python",
   "pygments_lexer": "ipython3",
   "version": "3.10.6"
  }
 },
 "nbformat": 4,
 "nbformat_minor": 5
}
