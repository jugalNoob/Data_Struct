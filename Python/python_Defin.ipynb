{
 "cells": [
  {
   "cell_type": "code",
   "execution_count": 1,
   "id": "373f95ba",
   "metadata": {},
   "outputs": [
    {
     "name": "stdout",
     "output_type": "stream",
     "text": [
      "enter your namejugal\n",
      "this is your name jugal\n"
     ]
    }
   ],
   "source": [
    "a=input(\"enter your name\")\n",
    "\n",
    "print(\"this is your name\" , a)"
   ]
  },
  {
   "cell_type": "code",
   "execution_count": 34,
   "id": "3b9528f5",
   "metadata": {},
   "outputs": [
    {
     "name": "stdout",
     "output_type": "stream",
     "text": [
      "enter your age19\n",
      "enter your namejugal sharma\n",
      "this my name  jugal sharma\n",
      "this is my age 19\n",
      "[]10\n",
      "[10] enter your array\n",
      "hello world\n"
     ]
    }
   ],
   "source": [
    "\n",
    "age=int(input(\"enter your age\"))\n",
    "\n",
    "def one():\n",
    "    \n",
    "    print(\"hello world\")\n",
    "    \n",
    "    \n",
    "def two():\n",
    "    \n",
    "    if age > 18:\n",
    "        \n",
    "#         print(\"this is your age\" , age)\n",
    "        \n",
    "        name=input(\"enter your name\")\n",
    "        \n",
    "        print(\"this my name \" , name)\n",
    "        \n",
    "        print(\"this is my age\" , age)\n",
    "        \n",
    "        \n",
    "        array=[]\n",
    "        \n",
    "        arr=int(input(array))\n",
    "        \n",
    "        array.append(arr)\n",
    "        \n",
    "        print(array , \"enter your array\")\n",
    "       \n",
    "    \n",
    "        \n",
    "        one()\n",
    "        \n",
    "\n",
    "    else:\n",
    "        \n",
    "        print(\"is not equal\")\n",
    "    \n",
    "two()"
   ]
  },
  {
   "cell_type": "code",
   "execution_count": null,
   "id": "dc38a478",
   "metadata": {},
   "outputs": [],
   "source": []
  },
  {
   "cell_type": "code",
   "execution_count": null,
   "id": "246ed059",
   "metadata": {},
   "outputs": [],
   "source": []
  }
 ],
 "metadata": {
  "kernelspec": {
   "display_name": "Python 3 (ipykernel)",
   "language": "python",
   "name": "python3"
  },
  "language_info": {
   "codemirror_mode": {
    "name": "ipython",
    "version": 3
   },
   "file_extension": ".py",
   "mimetype": "text/x-python",
   "name": "python",
   "nbconvert_exporter": "python",
   "pygments_lexer": "ipython3",
   "version": "3.10.6"
  }
 },
 "nbformat": 4,
 "nbformat_minor": 5
}
